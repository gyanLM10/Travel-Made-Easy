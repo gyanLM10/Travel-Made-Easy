{
 "cells": [
  {
   "metadata": {
    "ExecuteTime": {
     "end_time": "2025-07-06T06:58:08.690403Z",
     "start_time": "2025-07-06T06:58:08.686493Z"
    }
   },
   "cell_type": "code",
   "source": "import os",
   "id": "a85cf035df2d1fbd",
   "outputs": [],
   "execution_count": 34
  },
  {
   "metadata": {
    "ExecuteTime": {
     "end_time": "2025-07-04T08:47:58.040260Z",
     "start_time": "2025-07-04T08:47:58.032437Z"
    }
   },
   "cell_type": "code",
   "source": "from dotenv import load_dotenv",
   "id": "abc4c83facd48258",
   "outputs": [],
   "execution_count": 2
  },
  {
   "metadata": {
    "ExecuteTime": {
     "end_time": "2025-07-04T08:48:10.384273Z",
     "start_time": "2025-07-04T08:48:10.116244Z"
    }
   },
   "cell_type": "code",
   "source": "from langchain_groq import ChatGroq",
   "id": "510c8f1d6360583a",
   "outputs": [],
   "execution_count": 3
  },
  {
   "metadata": {
    "ExecuteTime": {
     "end_time": "2025-07-06T06:55:58.812702Z",
     "start_time": "2025-07-06T06:55:58.743615Z"
    }
   },
   "cell_type": "code",
   "source": "llm=ChatGroq(model=\"llama3-8b-8192\")",
   "id": "86e64b92ae331e2f",
   "outputs": [],
   "execution_count": 31
  },
  {
   "metadata": {
    "ExecuteTime": {
     "end_time": "2025-07-04T09:01:10.669298Z",
     "start_time": "2025-07-04T09:01:08.361102Z"
    }
   },
   "cell_type": "code",
   "source": "llm.invoke(\"hi\")",
   "id": "64d66ffea65d6ba7",
   "outputs": [
    {
     "data": {
      "text/plain": [
       "AIMessage(content=\"Hi! It's nice to meet you. Is there something I can help you with or would you like to chat?\", additional_kwargs={}, response_metadata={'token_usage': {'completion_tokens': 25, 'prompt_tokens': 11, 'total_tokens': 36, 'completion_time': 0.071428571, 'prompt_time': 0.000122138, 'queue_time': 0.052710592, 'total_time': 0.071550709}, 'model_name': 'llama3-70b-8192', 'system_fingerprint': 'fp_dd4ae1c591', 'finish_reason': 'stop', 'logprobs': None}, id='run--5b360f8a-7e70-43aa-b37e-b4b2b26724a9-0', usage_metadata={'input_tokens': 11, 'output_tokens': 25, 'total_tokens': 36})"
      ]
     },
     "execution_count": 13,
     "metadata": {},
     "output_type": "execute_result"
    }
   ],
   "execution_count": 13
  },
  {
   "metadata": {
    "ExecuteTime": {
     "end_time": "2025-07-04T09:03:55.337193Z",
     "start_time": "2025-07-04T09:03:55.324378Z"
    }
   },
   "cell_type": "code",
   "source": [
    "\n",
    "from langchain.tools import tool"
   ],
   "id": "65f5843c3b6b3c2b",
   "outputs": [],
   "execution_count": 14
  },
  {
   "metadata": {
    "ExecuteTime": {
     "end_time": "2025-07-04T09:04:26.497Z",
     "start_time": "2025-07-04T09:04:26.493303Z"
    }
   },
   "cell_type": "code",
   "source": "from langchain_core.tools import StructuredTool",
   "id": "292c669f69a97508",
   "outputs": [],
   "execution_count": 15
  },
  {
   "metadata": {
    "ExecuteTime": {
     "end_time": "2025-07-04T09:04:50.594756Z",
     "start_time": "2025-07-04T09:04:50.589797Z"
    }
   },
   "cell_type": "code",
   "source": [
    "def get_weather(city: str) -> str:\n",
    "    \"\"\"\n",
    "    Get the weather for a given city.\n",
    "\n",
    "    Args:\n",
    "        city (str): The name of the city.\n",
    "\n",
    "    Returns:\n",
    "        str: A string describing the weather in the city.\n",
    "    \"\"\"\n",
    "    return f\"The weather in {city} is sunny.\""
   ],
   "id": "ee9ed827229681da",
   "outputs": [],
   "execution_count": 16
  },
  {
   "metadata": {
    "ExecuteTime": {
     "end_time": "2025-07-04T09:08:50.357590Z",
     "start_time": "2025-07-04T09:08:50.352760Z"
    }
   },
   "cell_type": "code",
   "source": [
    "from pydantic import BaseModel\n",
    "\n",
    "class WeatherInput(BaseModel):\n",
    "    city: str"
   ],
   "id": "128c8ab0cfa8adde",
   "outputs": [],
   "execution_count": 18
  },
  {
   "metadata": {
    "ExecuteTime": {
     "end_time": "2025-07-04T09:08:52.326104Z",
     "start_time": "2025-07-04T09:08:52.323558Z"
    }
   },
   "cell_type": "code",
   "source": [
    "weather_tool = StructuredTool.from_function(\n",
    "    func=get_weather,\n",
    "    name=\"get_weather\",\n",
    "    description=\"Fetches real-time weather data for a city\",\n",
    "    args_schema=WeatherInput,\n",
    ")"
   ],
   "id": "1e19f4a4e6504fa4",
   "outputs": [],
   "execution_count": 19
  },
  {
   "metadata": {
    "ExecuteTime": {
     "end_time": "2025-07-04T09:13:58.070824Z",
     "start_time": "2025-07-04T09:13:58.059760Z"
    }
   },
   "cell_type": "code",
   "source": [
    "from pydantic import BaseModel, Field\n",
    "\n",
    "class WeatherInput(BaseModel):\n",
    "    city: str = Field(..., description=\"City name\")\n",
    "    units: str = Field(\"metric\", description=\"metric or imperial\")\n"
   ],
   "id": "158dceea52e1dc9",
   "outputs": [],
   "execution_count": 21
  },
  {
   "metadata": {
    "ExecuteTime": {
     "end_time": "2025-07-04T09:14:41.189437Z",
     "start_time": "2025-07-04T09:14:41.185224Z"
    }
   },
   "cell_type": "code",
   "source": "from typing import ClassVar, Type",
   "id": "3dbf8d0b231d6d54",
   "outputs": [],
   "execution_count": 23
  },
  {
   "metadata": {
    "ExecuteTime": {
     "end_time": "2025-07-06T06:56:34.079925Z",
     "start_time": "2025-07-06T06:56:34.063615Z"
    }
   },
   "cell_type": "code",
   "source": [
    "class WeatherInput(BaseModel):\n",
    "    city: str = Field(..., description=\"City name\")\n",
    "    units: str = Field(\"metric\", description=\"metric or imperial\")\n",
    "\n",
    "class GetWeatherTool(StructuredTool):\n",
    "    name: ClassVar[str] = \"get_weather\"\n",
    "    description: ClassVar[str] = (\n",
    "        \"Fetches weather data for a city\"\n",
    "    )\n",
    "    args_schema: ClassVar[Type[BaseModel]] = WeatherInput\n",
    "\n",
    "    def _run(self, city: str, units: str = \"metric\") -> str:\n",
    "        return get_weather(city, units)"
   ],
   "id": "7c14c17c9c82ae34",
   "outputs": [],
   "execution_count": 33
  },
  {
   "metadata": {
    "ExecuteTime": {
     "end_time": "2025-07-04T15:34:51.127406Z",
     "start_time": "2025-07-04T15:34:51.122756Z"
    }
   },
   "cell_type": "code",
   "source": [
    "import os\n",
    "\n",
    "class ModelLoader:\n",
    "    def __init__(self, model_provider=\"groq\"):\n",
    "        print(\"GROQ API KEY:\", os.environ.get(\"GROQ_API_KEY\"))"
   ],
   "id": "d528144d3916a9d5",
   "outputs": [],
   "execution_count": 25
  },
  {
   "metadata": {
    "ExecuteTime": {
     "end_time": "2025-07-04T15:50:19.057581Z",
     "start_time": "2025-07-04T15:50:19.053631Z"
    }
   },
   "cell_type": "code",
   "source": "import requests\n",
   "id": "7353508952290b43",
   "outputs": [],
   "execution_count": 27
  },
  {
   "metadata": {
    "ExecuteTime": {
     "end_time": "2025-07-04T15:51:04.951736Z",
     "start_time": "2025-07-04T15:51:04.939695Z"
    }
   },
   "cell_type": "code",
   "source": [
    "import requests\n",
    "\n",
    "payload = {\n",
    "    \"question\": \"What are some attractions in Paris?\"\n",
    "}\n",
    "\n",
    "response = requests.post(\"http://localhost:8002/ask\", json=payload)\n",
    "print(response.json())\n"
   ],
   "id": "c2d6e63cc657c57a",
   "outputs": [
    {
     "name": "stdout",
     "output_type": "stream",
     "text": [
      "{'detail': 'Not Found'}\n"
     ]
    }
   ],
   "execution_count": 30
  }
 ],
 "metadata": {
  "kernelspec": {
   "display_name": "Python 3",
   "language": "python",
   "name": "python3"
  },
  "language_info": {
   "codemirror_mode": {
    "name": "ipython",
    "version": 2
   },
   "file_extension": ".py",
   "mimetype": "text/x-python",
   "name": "python",
   "nbconvert_exporter": "python",
   "pygments_lexer": "ipython2",
   "version": "2.7.6"
  }
 },
 "nbformat": 4,
 "nbformat_minor": 5
}
